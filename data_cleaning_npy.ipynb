{
 "cells": [
  {
   "cell_type": "markdown",
   "id": "399c09df",
   "metadata": {},
   "source": [
    "# Data cleaning"
   ]
  },
  {
   "cell_type": "code",
   "execution_count": 1,
   "id": "f0bbe001",
   "metadata": {},
   "outputs": [],
   "source": [
    "import pandas as pd\n",
    "import numpy as np"
   ]
  },
  {
   "cell_type": "code",
   "execution_count": 2,
   "id": "6af1b5c2",
   "metadata": {},
   "outputs": [],
   "source": [
    "raw_data_path = r\".\\Data\\collegeplayer_cleaned.csv\"\n",
    "raw_data = pd.read_csv(raw_data_path)\n",
    "raw_data_np = raw_data.values"
   ]
  },
  {
   "cell_type": "markdown",
   "id": "fff68ce9",
   "metadata": {},
   "source": [
    "## Delete useless data"
   ]
  },
  {
   "cell_type": "code",
   "execution_count": 3,
   "id": "5d11d1e0",
   "metadata": {},
   "outputs": [],
   "source": [
    "delet_index = [2, 3, 5, 6, 8, 9, 32, 33, 34, 35, 36,\n",
    "               37, 38, 39, 40, 41, 66, 67, 68, 69,\n",
    "               70, 71, 72]\n",
    "data_cleaned = np.delete(raw_data_np, delet_index, axis=1)"
   ]
  },
  {
   "cell_type": "markdown",
   "id": "6da46559",
   "metadata": {},
   "source": [
    "## Delete repeated data"
   ]
  },
  {
   "cell_type": "code",
   "execution_count": 4,
   "id": "504b0925",
   "metadata": {},
   "outputs": [],
   "source": [
    "new_data_cleaned = np.zeros(shape=[1, data_cleaned.shape[1]])\n",
    "\n",
    "for i in range(data_cleaned.shape[0]-1):\n",
    "    if data_cleaned[i][1] != data_cleaned[i+1][1]:\n",
    "        new_data_cleaned = np.vstack((new_data_cleaned, data_cleaned[i]))\n",
    "\n",
    "new_data_cleaned = np.vstack((new_data_cleaned, data_cleaned[-1]))\n",
    "new_data_cleaned = new_data_cleaned[1:]"
   ]
  },
  {
   "cell_type": "markdown",
   "id": "8ab9cd79",
   "metadata": {},
   "source": [
    "## classify every 5 players in a group"
   ]
  },
  {
   "cell_type": "code",
   "execution_count": 5,
   "id": "dd8119b8",
   "metadata": {},
   "outputs": [],
   "source": [
    "picks_label = np.zeros(shape=[new_data_cleaned.shape[0]])\n",
    "for i in range(new_data_cleaned.shape[0]):\n",
    "    if (new_data_cleaned[i][3]>=1) & (new_data_cleaned[i][3]<=5):\n",
    "        picks_label[i] = 1\n",
    "    elif (new_data_cleaned[i][3]>=6) & (new_data_cleaned[i][3]<=10):\n",
    "        picks_label[i] = 2\n",
    "    elif (new_data_cleaned[i][3]>=11) & (new_data_cleaned[i][3]<=15):\n",
    "        picks_label[i] = 3\n",
    "    elif (new_data_cleaned[i][3]>=16) & (new_data_cleaned[i][3]<=20):\n",
    "        picks_label[i] = 4\n",
    "    elif (new_data_cleaned[i][3]>=21) & (new_data_cleaned[i][3]<=25):\n",
    "        picks_label[i] = 5\n",
    "    elif (new_data_cleaned[i][3]>=26) & (new_data_cleaned[i][3]<=30):\n",
    "        picks_label[i] = 6\n",
    "    elif (new_data_cleaned[i][3]>=31) & (new_data_cleaned[i][3]<=35):\n",
    "        picks_label[i] = 7\n",
    "    elif (new_data_cleaned[i][3]>=36) & (new_data_cleaned[i][3]<=40):\n",
    "        picks_label[i] = 8\n",
    "    elif (new_data_cleaned[i][3]>=41) & (new_data_cleaned[i][3]<=45):\n",
    "        picks_label[i] = 9\n",
    "    elif (new_data_cleaned[i][3]>=46) & (new_data_cleaned[i][3]<=50):\n",
    "        picks_label[i] = 10\n",
    "    elif (new_data_cleaned[i][3]>=51) & (new_data_cleaned[i][3]<=55):\n",
    "        picks_label[i] = 11\n",
    "    else:\n",
    "        picks_label[i] = 12"
   ]
  },
  {
   "cell_type": "markdown",
   "id": "e5f39f23",
   "metadata": {},
   "source": [
    "## Concatenate and save"
   ]
  },
  {
   "cell_type": "code",
   "execution_count": 6,
   "id": "75e6a661",
   "metadata": {},
   "outputs": [
    {
     "name": "stdout",
     "output_type": "stream",
     "text": [
      "(595, 51)\n",
      "[[0 'Cade Cunningham' 2021.0 ... 0.7037 5.4815 1.0]\n",
      " [1 'Evan Mobley' 2021.0 ... 2.7273 5.9394 1.0]\n",
      " [2 'Scottie Barnes' 2021.0 ... 1.4583 2.5417 1.0]\n",
      " ...\n",
      " [1484 'Lester Hudson' 2009.0 ... 2.2 5.8667 12.0]\n",
      " [1485 'Chinemelu Elonu' 2009.0 ... 2.7879 4.4242 12.0]\n",
      " [1486 'Robert Dozier' 2009.0 ... 2.8649 4.5946 12.0]]\n"
     ]
    }
   ],
   "source": [
    "picks_label_expand = np.expand_dims(picks_label, 1)\n",
    "new_data_clean_label = np.concatenate([new_data_cleaned, picks_label_expand], axis=1)\n",
    "print(new_data_clean_label.shape)\n",
    "print(new_data_clean_label)\n",
    "\n",
    "save_path = r'./NCAA_player_data.npy'\n",
    "np.save(save_path, new_data_clean_label)"
   ]
  },
  {
   "cell_type": "code",
   "execution_count": null,
   "id": "46eb1584",
   "metadata": {},
   "outputs": [],
   "source": []
  },
  {
   "cell_type": "code",
   "execution_count": null,
   "id": "7fb5615e",
   "metadata": {},
   "outputs": [],
   "source": []
  },
  {
   "cell_type": "code",
   "execution_count": null,
   "id": "b66e8d2a",
   "metadata": {},
   "outputs": [],
   "source": []
  },
  {
   "cell_type": "code",
   "execution_count": null,
   "id": "ddfb093b",
   "metadata": {},
   "outputs": [],
   "source": []
  }
 ],
 "metadata": {
  "kernelspec": {
   "display_name": "Python 3 (ipykernel)",
   "language": "python",
   "name": "python3"
  },
  "language_info": {
   "codemirror_mode": {
    "name": "ipython",
    "version": 3
   },
   "file_extension": ".py",
   "mimetype": "text/x-python",
   "name": "python",
   "nbconvert_exporter": "python",
   "pygments_lexer": "ipython3",
   "version": "3.9.13"
  }
 },
 "nbformat": 4,
 "nbformat_minor": 5
}
